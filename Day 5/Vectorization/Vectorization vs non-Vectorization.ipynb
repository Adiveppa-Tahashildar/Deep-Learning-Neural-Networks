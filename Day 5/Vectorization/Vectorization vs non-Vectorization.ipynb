{
 "cells": [
  {
   "cell_type": "markdown",
   "metadata": {},
   "source": [
    "#### INTRODUCTION\n",
    "1. We want to multiply two matrices. Both are 10 million dimensional matrices.\n",
    "2. The first way is for loop that is non-vectorized implementation.\n",
    "3. The second way is np.dot() that is vectorized implementation.\n",
    "4. The expected result is vectorized implementation becomes faster than non-vectorized implementation.\n",
    "5. Why time is important? Because,in todays world data can be very huge and implementation time very important. Nobody wants to wait too much time.\n",
    "6. What is too much time? While implementation process can take days in deep learning.\n",
    "7. Lets try and comprare two implementations"
   ]
  },
  {
   "cell_type": "code",
   "execution_count": 1,
   "metadata": {},
   "outputs": [],
   "source": [
    "import numpy as np # linear algebra\n",
    "import time"
   ]
  },
  {
   "cell_type": "code",
   "execution_count": 2,
   "metadata": {},
   "outputs": [],
   "source": [
    "# Two matrices with 10 million dimensions\n",
    "a = np.random.rand(10000000)\n",
    "b = np.random.rand(10000000)"
   ]
  },
  {
   "cell_type": "code",
   "execution_count": 3,
   "metadata": {},
   "outputs": [
    {
     "name": "stdout",
     "output_type": "stream",
     "text": [
      "Vectorized version calculation result:  2499158.4151414945\n",
      "Vectorized version process time: 11.993169784545898 ms\n"
     ]
    }
   ],
   "source": [
    "# Vectorized\n",
    "tic = time.time()\n",
    "c = np.dot(a,b)\n",
    "toc = time.time()\n",
    "print('Vectorized version calculation result: ',c)\n",
    "print('Vectorized version process time: '+ str((toc-tic)*1000)+ ' ms')"
   ]
  },
  {
   "cell_type": "code",
   "execution_count": 4,
   "metadata": {},
   "outputs": [
    {
     "name": "stdout",
     "output_type": "stream",
     "text": [
      "Non-vectorized version calculation result:  2499158.4151415415\n",
      "Non-vectorized version process time: 8499.172687530518 ms\n"
     ]
    }
   ],
   "source": [
    "# Non-vectorized\n",
    "c = 0\n",
    "tic = time.time()\n",
    "for i in range(len(a)):\n",
    "    c += a[i]*b[i]\n",
    "toc = time.time()\n",
    "print('Non-vectorized version calculation result: ',c)\n",
    "print('Non-vectorized version process time: '+ str((toc-tic)*1000)+ ' ms')"
   ]
  }
 ],
 "metadata": {
  "kernelspec": {
   "display_name": "Python 3",
   "language": "python",
   "name": "python3"
  },
  "language_info": {
   "codemirror_mode": {
    "name": "ipython",
    "version": 3
   },
   "file_extension": ".py",
   "mimetype": "text/x-python",
   "name": "python",
   "nbconvert_exporter": "python",
   "pygments_lexer": "ipython3",
   "version": "3.6.9"
  }
 },
 "nbformat": 4,
 "nbformat_minor": 2
}
