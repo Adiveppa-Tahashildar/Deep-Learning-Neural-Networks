{
 "cells": [
  {
   "cell_type": "code",
   "execution_count": 3,
   "metadata": {},
   "outputs": [],
   "source": [
    "#!pip install numpy"
   ]
  },
  {
   "cell_type": "code",
   "execution_count": 5,
   "metadata": {},
   "outputs": [],
   "source": [
    "#!pip install pandas"
   ]
  },
  {
   "cell_type": "code",
   "execution_count": 6,
   "metadata": {
    "_cell_guid": "b1076dfc-b9ad-4769-8c92-a6c4dae69d19",
    "_uuid": "8f2839f25d086af736a60e9eeb907d3b93b6e0e5"
   },
   "outputs": [],
   "source": [
    "# This Python 3 environment comes with many helpful analytics libraries installed\n",
    "# It is defined by the kaggle/python docker image: https://github.com/kaggle/docker-python\n",
    "# For example, here's several helpful packages to load in \n",
    "\n",
    "import numpy as np # linear algebra\n",
    "import pandas as pd # data processing, CSV file I/O (e.g. pd.read_csv)\n",
    "\n",
    "import os"
   ]
  },
  {
   "cell_type": "code",
   "execution_count": 9,
   "metadata": {},
   "outputs": [],
   "source": [
    "#!pip install matplotlib"
   ]
  },
  {
   "cell_type": "code",
   "execution_count": 12,
   "metadata": {},
   "outputs": [],
   "source": [
    "#!pip install scipy"
   ]
  },
  {
   "cell_type": "code",
   "execution_count": 2,
   "metadata": {},
   "outputs": [],
   "source": [
    "#!pip install Pillow"
   ]
  },
  {
   "cell_type": "code",
   "execution_count": 3,
   "metadata": {
    "_cell_guid": "79c7e3d0-c299-4dcb-8224-4455121ee9b0",
    "_uuid": "d629ff2d2480ee46fbb7e2d37f6b5fab8052498a"
   },
   "outputs": [],
   "source": [
    "# Package imports\n",
    "import numpy as np\n",
    "import matplotlib.pyplot as plt\n",
    "import scipy\n",
    "from PIL import Image\n",
    "from scipy import ndimage\n",
    "from os import listdir\n",
    "from os.path import isfile, join\n",
    "\n",
    "%matplotlib inline"
   ]
  },
  {
   "cell_type": "code",
   "execution_count": 4,
   "metadata": {
    "_cell_guid": "7918d09a-4b49-48d7-b9c7-33b17771ef6b",
    "_uuid": "cd6db12f27b9dc58e2a6f954cba83363b794e569"
   },
   "outputs": [],
   "source": [
    "def get_images(file_name):\n",
    "    img = Image.open(file_name)\n",
    "    return img.resize((256,256), Image.ANTIALIAS)\n",
    "\n",
    "def get_file_list(folder):\n",
    "    return [f for f in listdir(folder) if isfile(join(folder, f))]\n",
    "\n",
    "def get_array(folder):\n",
    "    image_list = get_file_list(folder)\n",
    "    m = np.array([])\n",
    "    for i_name in image_list:\n",
    "        p = np.array(get_images(folder+i_name))\n",
    "        p = p.reshape(p.shape[0]*p.shape[1]*p.shape[2],1)\n",
    "        if len(m)==0:\n",
    "            m = p\n",
    "        else:\n",
    "            m = np.concatenate((m,p),axis=1)\n",
    "    return m"
   ]
  },
  {
   "cell_type": "code",
   "execution_count": 5,
   "metadata": {
    "_cell_guid": "13d8a94f-454e-4761-b1d7-ede654c1e898",
    "_uuid": "686ae8b339e9556762459e26d56687513099f628"
   },
   "outputs": [],
   "source": [
    "train_hot_dog = get_array('hot-dog-not-hot-dog/seefood/train/hot_dog/')\n",
    "train_not_hot_dog = get_array('hot-dog-not-hot-dog/seefood/train/not_hot_dog/')\n",
    "train_hot_dog_result = np.ones((1,train_hot_dog.shape[1]))\n",
    "train_not_hot_dog_result = np.zeros((1,train_not_hot_dog.shape[1]))\n",
    "train_input = np.concatenate((train_hot_dog,train_not_hot_dog),axis=1)\n",
    "train_output = np.concatenate((train_hot_dog_result,train_not_hot_dog_result),axis=1)"
   ]
  },
  {
   "cell_type": "code",
   "execution_count": 6,
   "metadata": {
    "_cell_guid": "97898936-1a39-470f-914c-7eaf85413dd1",
    "_uuid": "ddecd135efbab43e46f56467379993c56fa8d736"
   },
   "outputs": [],
   "source": [
    "test_hot_dog = get_array('hot-dog-not-hot-dog/seefood/test/hot_dog/')\n",
    "test_not_hot_dog = get_array('hot-dog-not-hot-dog/seefood/test/not_hot_dog/')\n",
    "test_hot_dog_result = np.ones((1,test_hot_dog.shape[1]))\n",
    "test_not_hot_dog_result = np.zeros((1,test_not_hot_dog.shape[1]))\n",
    "test_input = np.concatenate((test_hot_dog,test_not_hot_dog),axis=1)\n",
    "test_output = np.concatenate((test_hot_dog_result,test_not_hot_dog_result),axis=1)"
   ]
  },
  {
   "cell_type": "code",
   "execution_count": 7,
   "metadata": {
    "_cell_guid": "bb4e5370-1844-4216-9cd4-2fefa0c69da7",
    "_uuid": "4b713c3000bea1c584bdee379dbb6cd362cbb718"
   },
   "outputs": [],
   "source": [
    "train_input = train_input / 225.\n",
    "test_input = test_input / 225."
   ]
  },
  {
   "cell_type": "code",
   "execution_count": 8,
   "metadata": {
    "_cell_guid": "f2650834-1537-4f1b-aec3-098b8eb9ed5e",
    "_uuid": "4e3cc14ce96b90351cf04f8dd7bfbf76887e6722"
   },
   "outputs": [
    {
     "name": "stdout",
     "output_type": "stream",
     "text": [
      "(196608, 498)\n",
      "(1, 498)\n"
     ]
    }
   ],
   "source": [
    "print(train_input.shape)\n",
    "print(train_output.shape)"
   ]
  },
  {
   "cell_type": "code",
   "execution_count": 9,
   "metadata": {
    "_cell_guid": "c6820dc5-69e3-43fe-bd84-4b2a120905e9",
    "_uuid": "6472704e9ff9c6c3e01abb6de67b631fe6856a91"
   },
   "outputs": [
    {
     "name": "stdout",
     "output_type": "stream",
     "text": [
      "(196608, 500)\n",
      "(1, 500)\n"
     ]
    }
   ],
   "source": [
    "print(test_input.shape)\n",
    "print(test_output.shape)"
   ]
  },
  {
   "cell_type": "code",
   "execution_count": 10,
   "metadata": {
    "_cell_guid": "feff2632-1be6-41fe-a9f2-7b86df25802a",
    "_uuid": "241def5d2e7d78461c0e3e698a33a00b7cf00402"
   },
   "outputs": [],
   "source": [
    "def sigmoid(z):\n",
    "    return 1 / (1 + np.exp(-z))"
   ]
  },
  {
   "cell_type": "markdown",
   "metadata": {},
   "source": [
    "Layer is a general term that applies to a collection of 'nodes' operating together at a specific depth within a neural network. The input layer is contains your raw data (you can think of each variable as a 'node'). The hidden layer(s) are where the black magic happens in neural networks."
   ]
  },
  {
   "cell_type": "code",
   "execution_count": 11,
   "metadata": {
    "_cell_guid": "85dbc4c4-8b4b-4a60-9456-987da3abf058",
    "_uuid": "cd9387256e0af6211bacdb630abe144b07f7deea"
   },
   "outputs": [],
   "source": [
    "def layer_sizes(X, Y):\n",
    "    n_i = X.shape[0]\n",
    "    n_o = Y.shape[0]\n",
    "    return (n_i,n_o)"
   ]
  },
  {
   "cell_type": "markdown",
   "metadata": {},
   "source": [
    "#### Neural network parameters\n",
    "\n",
    "Network Parameters. There are a number of different parameters that must be decided upon when designing a neural network. Among these parameters are the number of layers, the number of neurons per layer, the number of training iterations, et cetera."
   ]
  },
  {
   "cell_type": "code",
   "execution_count": 12,
   "metadata": {
    "_cell_guid": "0e7f72e1-c608-40a8-91a6-507350550f7d",
    "_uuid": "0783e231e921fbfeeccdb081b6969bacfbb52618"
   },
   "outputs": [],
   "source": [
    "def initialize_parameters(n_i, n_h, n_o):\n",
    "    W1 = np.random.randn(n_h,n_i)*0.01\n",
    "    b1 = np.zeros((n_h,1))\n",
    "    \n",
    "    W2 = np.random.randn(n_o, n_h)*0.01\n",
    "    b2 = np.zeros((n_o,1))\n",
    "    \n",
    "    parameters = {\n",
    "        \"W1\": W1,\n",
    "        \"b1\": b1,\n",
    "        \"W2\": W2,\n",
    "        \"b2\": b2\n",
    "    }\n",
    "    return parameters"
   ]
  },
  {
   "cell_type": "markdown",
   "metadata": {},
   "source": [
    "### The feedforward neural network \n",
    "\n",
    "The first and simplest type of artificial neural network devised. In this network, the information moves in only one direction, forward, from the input nodes, through the hidden nodes (if any) and to the output nodes. There are no cycles or loops in the network."
   ]
  },
  {
   "cell_type": "code",
   "execution_count": 13,
   "metadata": {
    "_cell_guid": "e8b01775-80cb-47f2-957e-916d4e825efa",
    "_uuid": "302bf4ef14c7dac41eb10b7c52f135b70281785b"
   },
   "outputs": [],
   "source": [
    "def forward_propagation(X, parameters):\n",
    "    \n",
    "    W1 = parameters[\"W1\"]\n",
    "    b1 = parameters[\"b1\"]\n",
    "    W2 = parameters[\"W2\"]\n",
    "    b2 = parameters[\"b2\"]\n",
    "    \n",
    "    Z1 = np.dot(W1,X)+b1\n",
    "    A1 = np.tanh(Z1)\n",
    "    Z2 = np.dot(W2,A1)+b2\n",
    "    A2 = sigmoid(Z2)\n",
    "    \n",
    "    cache = {\"Z1\": Z1,\n",
    "             \"A1\": A1,\n",
    "             \"Z2\": Z2,\n",
    "             \"A2\": A2}\n",
    "    \n",
    "    return A2, cache"
   ]
  },
  {
   "cell_type": "markdown",
   "metadata": {},
   "source": [
    "\n",
    "\n",
    "Cost function returns a scalar value called 'cost' , that tells how good or bad your model is. There are several cost functions that can be used. Less cost represent a good model. The reason cost functions are used in neural networks is that 'cost is used by models to improve' "
   ]
  },
  {
   "cell_type": "code",
   "execution_count": 14,
   "metadata": {
    "_cell_guid": "d14fdf3c-3eb9-4ee6-a90e-bc50493b7d17",
    "_uuid": "f0452490f6bae86945c668e9eb4599c6a2aaeed9"
   },
   "outputs": [],
   "source": [
    "def compute_cost(A2, Y, parameters):\n",
    "    m = Y.shape[1]\n",
    "    logprobs = -np.sum(Y*np.log(A2)+(1-Y)*np.log(1-A2))\n",
    "    cost = (1/m)*logprobs\n",
    "    cost = np.squeeze(cost)\n",
    "    \n",
    "    return cost"
   ]
  },
  {
   "cell_type": "markdown",
   "metadata": {},
   "source": [
    "### Backpropagation\n",
    "Backpropagation algorithms are a family of methods used to efficiently train artificial neural networks (ANNs) following a gradient-based optimization algorithm that exploits the chain rule. The main feature of backpropagation is its iterative, recursive and efficient method for calculating the weights updates to improve the network until it is able to perform the task for which it is being trained. It is closely related to the Gauss–Newton algorithm."
   ]
  },
  {
   "cell_type": "code",
   "execution_count": 15,
   "metadata": {
    "_cell_guid": "04c99462-958f-41fd-aea5-e01cff60f68e",
    "_uuid": "b0de16326975f82fca0d6fa710743a0726fd7371"
   },
   "outputs": [],
   "source": [
    "def backward_propagation(parameters, cache, X, Y):\n",
    "    m = X.shape[1]\n",
    "    \n",
    "    W1 = parameters[\"W1\"]\n",
    "    W2 = parameters[\"W2\"]\n",
    "    \n",
    "    A1 = cache[\"A1\"]\n",
    "    A2 = cache[\"A2\"]\n",
    "    \n",
    "    dZ2 = A2-Y\n",
    "    dW2 = (1/m)*np.dot(dZ2,A1.T)\n",
    "    db2 = (1/m)*np.sum(dZ2,axis=1,keepdims = True)\n",
    "    dZ1 = np.dot(W2.T,dZ2)*(1-np.power(A1,2))\n",
    "    dW1 = (1/m)*np.dot(dZ1,X.T)\n",
    "    db1 = (1/m)*np.sum(dZ1,axis=1,keepdims = True)\n",
    "    \n",
    "    grads = {\"dW1\": dW1,\n",
    "             \"db1\": db1,\n",
    "             \"dW2\": dW2,\n",
    "             \"db2\": db2}\n",
    "    \n",
    "    return grads"
   ]
  },
  {
   "cell_type": "code",
   "execution_count": 16,
   "metadata": {
    "_cell_guid": "16f9d091-740c-4157-bfd7-41a48ebc5db8",
    "_uuid": "14f462a0971ffe3968df45937de05ca6108ae6fb"
   },
   "outputs": [],
   "source": [
    "def update_parameters(parameters, grads, learning_rate = 0.0005):\n",
    "    W1 = parameters[\"W1\"]\n",
    "    b1 = parameters[\"b1\"]\n",
    "    W2 = parameters[\"W2\"]\n",
    "    b2 = parameters[\"b2\"]\n",
    "    \n",
    "    dW1 = grads[\"dW1\"]\n",
    "    db1 = grads[\"db1\"]\n",
    "    dW2 = grads[\"dW2\"]\n",
    "    db2 = grads[\"db2\"]\n",
    "    \n",
    "    W1 = W1-learning_rate*dW1\n",
    "    b1 = b1-learning_rate*db1\n",
    "    W2 = W2-learning_rate*dW2\n",
    "    b2 = b2-learning_rate*db2\n",
    "    \n",
    "    parameters = {\"W1\": W1,\n",
    "                  \"b1\": b1,\n",
    "                  \"W2\": W2,\n",
    "                  \"b2\": b2}\n",
    "    \n",
    "    return parameters"
   ]
  },
  {
   "cell_type": "code",
   "execution_count": 17,
   "metadata": {
    "_cell_guid": "d26a42e9-e840-4145-be0b-884ef337d666",
    "_uuid": "4f57ba8fb8ef8c77808131f521468b5d674aeb45"
   },
   "outputs": [],
   "source": [
    "def nn_model(X, Y, n_h, num_iterations = 10000, print_cost=False):\n",
    "    n_x = layer_sizes(X, Y)[0]\n",
    "    n_y = layer_sizes(X, Y)[1]\n",
    "    \n",
    "    parameters = initialize_parameters(n_x,n_h,n_y)\n",
    "    W1 = parameters[\"W1\"]\n",
    "    b1 = parameters[\"b1\"]\n",
    "    W2 = parameters[\"W2\"]\n",
    "    b2 = parameters[\"b2\"]\n",
    "\n",
    "    for i in range(0, num_iterations):\n",
    "        A2, cache = forward_propagation(X, parameters)\n",
    "        cost = compute_cost(A2, Y, parameters)\n",
    "        grads = backward_propagation(parameters, cache, X, Y)\n",
    "        parameters = update_parameters(parameters, grads)\n",
    "        \n",
    "        if print_cost and i % 100 == 0:\n",
    "            print (\"Cost after iteration %i: %f\" %(i, cost))\n",
    "\n",
    "    return parameters"
   ]
  },
  {
   "cell_type": "code",
   "execution_count": 18,
   "metadata": {
    "_cell_guid": "feb96312-441c-4c9c-9c01-91f271ede9ff",
    "_uuid": "8c7ec75c32f62acd31ac4a1e5de4e1e811a39eac"
   },
   "outputs": [],
   "source": [
    "def predict(parameters, X):\n",
    "    \n",
    "    A2, cache = forward_propagation(X, parameters)\n",
    "    predictions = np.round(A2)\n",
    "    \n",
    "    return predictions"
   ]
  },
  {
   "cell_type": "markdown",
   "metadata": {
    "_cell_guid": "9b64ddae-2076-4561-ac28-e272c167bbe6",
    "_uuid": "8520e953fd09bafb41cf777dda9f124d0f1c0387"
   },
   "source": [
    "Increase size of n_h to match input_dim and iterations to 10000."
   ]
  },
  {
   "cell_type": "code",
   "execution_count": 19,
   "metadata": {
    "_cell_guid": "5e41f6c7-f4c8-41de-b032-d37c4cb68657",
    "_uuid": "719db3176829223071f9ae68aa02f8a604c4d7dd"
   },
   "outputs": [
    {
     "name": "stdout",
     "output_type": "stream",
     "text": [
      "Cost after iteration 0: 0.692213\n",
      "Cost after iteration 100: 0.691928\n",
      "Cost after iteration 200: 0.691562\n",
      "Cost after iteration 300: 0.691137\n",
      "Cost after iteration 400: 0.690676\n",
      "Cost after iteration 500: 0.690151\n",
      "Cost after iteration 600: 0.689535\n",
      "Cost after iteration 700: 0.688811\n",
      "Cost after iteration 800: 0.687962\n",
      "Cost after iteration 900: 0.686976\n",
      "Cost after iteration 1000: 0.685848\n",
      "Cost after iteration 1100: 0.684573\n",
      "Cost after iteration 1200: 0.683153\n",
      "Cost after iteration 1300: 0.681586\n",
      "Cost after iteration 1400: 0.679872\n",
      "Cost after iteration 1500: 0.678011\n",
      "Cost after iteration 1600: 0.675999\n",
      "Cost after iteration 1700: 0.673837\n",
      "Cost after iteration 1800: 0.671525\n",
      "Cost after iteration 1900: 0.669062\n"
     ]
    }
   ],
   "source": [
    "# Build a model with a n_h-dimensional hidden layer\n",
    "parameters = nn_model(train_input, train_output, n_h = 4, num_iterations = 2000, print_cost=True)"
   ]
  },
  {
   "cell_type": "code",
   "execution_count": 20,
   "metadata": {
    "_cell_guid": "759d99f0-c1be-410a-aaaa-ffcdccd2ea2b",
    "_uuid": "df5da20411ecfced01e3f57d081663421a32db8c"
   },
   "outputs": [
    {
     "name": "stdout",
     "output_type": "stream",
     "text": [
      "Accuracy Train: 70%\n",
      "Accuracy Test: 54%\n"
     ]
    }
   ],
   "source": [
    "# Print accuracy\n",
    "predictions = predict(parameters, train_input)\n",
    "print ('Accuracy Train: %d' % float((np.dot(train_output,predictions.T) + np.dot(1-train_output,1-predictions.T))/float(train_output.size)*100) + '%')\n",
    "predictions = predict(parameters, test_input)\n",
    "print ('Accuracy Test: %d' % float((np.dot(test_output,predictions.T) + np.dot(1-test_output,1-predictions.T))/float(test_output.size)*100) + '%')"
   ]
  }
 ],
 "metadata": {
  "kernelspec": {
   "display_name": "Python 3",
   "language": "python",
   "name": "python3"
  },
  "language_info": {
   "codemirror_mode": {
    "name": "ipython",
    "version": 3
   },
   "file_extension": ".py",
   "mimetype": "text/x-python",
   "name": "python",
   "nbconvert_exporter": "python",
   "pygments_lexer": "ipython3",
   "version": "3.6.9"
  }
 },
 "nbformat": 4,
 "nbformat_minor": 1
}
