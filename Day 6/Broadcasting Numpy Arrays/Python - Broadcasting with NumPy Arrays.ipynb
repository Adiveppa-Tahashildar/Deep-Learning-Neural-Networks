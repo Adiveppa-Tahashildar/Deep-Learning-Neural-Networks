{
 "cells": [
  {
   "cell_type": "markdown",
   "metadata": {},
   "source": [
    "The term broadcasting refers to how numpy treats arrays with different Dimension during arithmetic operations which lead to certain constraints, the smaller array is broadcast across the larger array so that they have compatible shapes.\n",
    "Broadcasting provides a means of vectorizing array operations."
   ]
  },
  {
   "cell_type": "code",
   "execution_count": 1,
   "metadata": {},
   "outputs": [
    {
     "name": "stdout",
     "output_type": "stream",
     "text": [
      "[450 350   0  30]\n"
     ]
    }
   ],
   "source": [
    "import numpy as np \n",
    "\n",
    "A = np.array([5, 7, 3, 1]) \n",
    "B = np.array([90, 50, 0, 30]) \n",
    "\n",
    "# array are compatible because of same Dimension \n",
    "c = A * B\n",
    "print (c) "
   ]
  },
  {
   "cell_type": "markdown",
   "metadata": {},
   "source": [
    "Let’s assume that we have a large data set, each datum is a list of parameters. In Numpy we have a 2-D array, where each row is a datum and the number of rows is the size of the data set. Suppose we want to apply some sort of scaling to all these data every parameter gets its own scaling factor or say Every parameter is multiplied by some factor."
   ]
  },
  {
   "cell_type": "markdown",
   "metadata": {},
   "source": [
    "#### Let’s see a naive way of producing this computation with Numpy:"
   ]
  },
  {
   "cell_type": "code",
   "execution_count": 5,
   "metadata": {},
   "outputs": [
    {
     "data": {
      "text/plain": [
       "array([[ 0.8,  2.9,  3.9],\n",
       "       [52.4, 23.6, 36.5],\n",
       "       [55.2, 31.7, 23.9],\n",
       "       [14.4, 11. ,  4.9]])"
      ]
     },
     "execution_count": 5,
     "metadata": {},
     "output_type": "execute_result"
    }
   ],
   "source": [
    "import numpy as np\n",
    "\n",
    "macros = np.array([ \n",
    "[0.8, 2.9, 3.9], \n",
    "[52.4, 23.6, 36.5], \n",
    "[55.2, 31.7, 23.9], \n",
    "[14.4, 11, 4.9] \n",
    "]) \n",
    "\n",
    "macros"
   ]
  },
  {
   "cell_type": "code",
   "execution_count": 4,
   "metadata": {},
   "outputs": [
    {
     "data": {
      "text/plain": [
       "array([[0., 0., 0.],\n",
       "       [0., 0., 0.],\n",
       "       [0., 0., 0.],\n",
       "       [0., 0., 0.]])"
      ]
     },
     "execution_count": 4,
     "metadata": {},
     "output_type": "execute_result"
    }
   ],
   "source": [
    "# Create a new array filled with zeros, \n",
    "# of the same shape as macros. \n",
    "result = np.zeros_like(macros) \n",
    "result"
   ]
  },
  {
   "cell_type": "code",
   "execution_count": 7,
   "metadata": {},
   "outputs": [
    {
     "data": {
      "text/plain": [
       "array([[ 0.8,  2.9,  3.9],\n",
       "       [52.4, 23.6, 36.5],\n",
       "       [55.2, 31.7, 23.9],\n",
       "       [14.4, 11. ,  4.9]])"
      ]
     },
     "execution_count": 7,
     "metadata": {},
     "output_type": "execute_result"
    }
   ],
   "source": [
    "macros"
   ]
  },
  {
   "cell_type": "code",
   "execution_count": 6,
   "metadata": {},
   "outputs": [
    {
     "data": {
      "text/plain": [
       "array([[  2.4,   8.7,  31.2],\n",
       "       [157.2,  70.8, 292. ],\n",
       "       [165.6,  95.1, 191.2],\n",
       "       [ 43.2,  33. ,  39.2]])"
      ]
     },
     "execution_count": 6,
     "metadata": {},
     "output_type": "execute_result"
    }
   ],
   "source": [
    "cal_per_macro = np.array([3, 3, 8]) \n",
    "\n",
    "# Now multiply each row of macros by \n",
    "# cal_per_macro. In Numpy, `*` is \n",
    "# element-wise multiplication between two arrays. \n",
    "for i in range(macros.shape[0]): \n",
    "    result[i, :] = macros[i, :] * cal_per_macro \n",
    "\n",
    "result "
   ]
  },
  {
   "cell_type": "markdown",
   "metadata": {},
   "source": [
    "#### Rank of an Array\n",
    "In computer programming, rank with no further specifications is usually a synonym for (or refers to) \"number of dimensions\"; thus, a two-dimensional array has rank two, a three-dimensional array has rank three and so on."
   ]
  },
  {
   "cell_type": "markdown",
   "metadata": {},
   "source": [
    "#### Broadcasting Rules:\n",
    "\n",
    "Broadcasting two arrays together follow these rules:\n",
    "\n",
    "1. If the arrays don't have the same rank then prepend the shape of the lower rank array with 1s until both shapes have the same length.\n",
    "2. The two arrays are compatible in a dimension if they have the same size in the dimension or if one of the arrays has size 1 in that dimension.\n",
    "3. The arrays can be broadcast together iff they are compatible with all dimensions.\n",
    "4. After broadcasting, each array behaves as if it had shape equal to the element-wise maximum of shapes of the two input arrays.\n",
    "5. In any dimension where one array had size 1 and the other array had size greater than 1, the first array behaves as if it were copied along that dimension."
   ]
  },
  {
   "cell_type": "code",
   "execution_count": 8,
   "metadata": {},
   "outputs": [
    {
     "name": "stdout",
     "output_type": "stream",
     "text": [
      "[17 11 19]\n",
      "3\n",
      "[20 14 22]\n"
     ]
    }
   ],
   "source": [
    "import numpy as np \n",
    "a = np.array([17, 11, 19]) # 1x3 Dimension array \n",
    "print(a) \n",
    "b = 3\n",
    "print(b) \n",
    "\n",
    "# Broadcasting happened beacuse of \n",
    "# miss match in array Dimension. \n",
    "c = a + b \n",
    "print(c) "
   ]
  },
  {
   "cell_type": "code",
   "execution_count": 9,
   "metadata": {},
   "outputs": [
    {
     "name": "stdout",
     "output_type": "stream",
     "text": [
      "[[11 22 33]\n",
      " [10 20 30]]\n",
      "4\n",
      "[[15 26 37]\n",
      " [14 24 34]]\n"
     ]
    }
   ],
   "source": [
    "import numpy as np \n",
    "A = np.array([[11, 22, 33], [10, 20, 30]]) \n",
    "print(A) \n",
    "\n",
    "b = 4\n",
    "print(b) \n",
    "\n",
    "C = A + b \n",
    "print(C) "
   ]
  },
  {
   "cell_type": "code",
   "execution_count": 10,
   "metadata": {},
   "outputs": [
    {
     "data": {
      "text/plain": [
       "((3,), (2,))"
      ]
     },
     "execution_count": 10,
     "metadata": {},
     "output_type": "execute_result"
    }
   ],
   "source": [
    "import numpy as np \n",
    "\n",
    "v = np.array([12, 24, 36]) \n",
    "w = np.array([45, 55])\n",
    "\n",
    "v.shape, w.shape"
   ]
  },
  {
   "cell_type": "code",
   "execution_count": 13,
   "metadata": {},
   "outputs": [
    {
     "data": {
      "text/plain": [
       "array([12, 24, 36])"
      ]
     },
     "execution_count": 13,
     "metadata": {},
     "output_type": "execute_result"
    }
   ],
   "source": [
    "v"
   ]
  },
  {
   "cell_type": "code",
   "execution_count": 15,
   "metadata": {},
   "outputs": [
    {
     "data": {
      "text/plain": [
       "(array([[12],\n",
       "        [24],\n",
       "        [36]]), array([45, 55]))"
      ]
     },
     "execution_count": 15,
     "metadata": {},
     "output_type": "execute_result"
    }
   ],
   "source": [
    "np.reshape(v, (3, 1)), w"
   ]
  },
  {
   "cell_type": "code",
   "execution_count": 11,
   "metadata": {},
   "outputs": [
    {
     "name": "stdout",
     "output_type": "stream",
     "text": [
      "[[ 540  660]\n",
      " [1080 1320]\n",
      " [1620 1980]]\n"
     ]
    }
   ],
   "source": [
    "# To compute an outer product we first \n",
    "# reshape v to a column vector of shape 3x1 \n",
    "# then broadcast it against w to yield an output \n",
    "# of shape 3x2 which is the outer product of v and w \n",
    "print(np.reshape(v, (3, 1)) * w) "
   ]
  },
  {
   "cell_type": "code",
   "execution_count": 16,
   "metadata": {},
   "outputs": [
    {
     "data": {
      "text/plain": [
       "array([12, 24, 36])"
      ]
     },
     "execution_count": 16,
     "metadata": {},
     "output_type": "execute_result"
    }
   ],
   "source": [
    "v"
   ]
  },
  {
   "cell_type": "code",
   "execution_count": 17,
   "metadata": {},
   "outputs": [
    {
     "name": "stdout",
     "output_type": "stream",
     "text": [
      "[[ 24  46  69]\n",
      " [ 57  79 102]]\n"
     ]
    }
   ],
   "source": [
    "X = np.array([[12, 22, 33], [45, 55, 66]]) \n",
    "\n",
    "# x has shape 2x3 and v has shape (3, ) \n",
    "# so they broadcast to 2x3, \n",
    "print(X + v) "
   ]
  },
  {
   "cell_type": "code",
   "execution_count": 25,
   "metadata": {},
   "outputs": [
    {
     "data": {
      "text/plain": [
       "array([[12, 45],\n",
       "       [22, 55],\n",
       "       [33, 66]])"
      ]
     },
     "execution_count": 25,
     "metadata": {},
     "output_type": "execute_result"
    }
   ],
   "source": [
    "X.T"
   ]
  },
  {
   "cell_type": "code",
   "execution_count": 23,
   "metadata": {},
   "outputs": [
    {
     "data": {
      "text/plain": [
       "array([45, 55])"
      ]
     },
     "execution_count": 23,
     "metadata": {},
     "output_type": "execute_result"
    }
   ],
   "source": [
    "w"
   ]
  },
  {
   "cell_type": "code",
   "execution_count": 28,
   "metadata": {},
   "outputs": [
    {
     "data": {
      "text/plain": [
       "array([[ 57,  67,  78],\n",
       "       [100, 110, 121]])"
      ]
     },
     "execution_count": 28,
     "metadata": {},
     "output_type": "execute_result"
    }
   ],
   "source": [
    "(X.T + w).T"
   ]
  },
  {
   "cell_type": "code",
   "execution_count": 29,
   "metadata": {},
   "outputs": [
    {
     "name": "stdout",
     "output_type": "stream",
     "text": [
      "[[ 57  67  78]\n",
      " [100 110 121]]\n"
     ]
    }
   ],
   "source": [
    "# Add a vector to each column of a matrix X has \n",
    "# shape 2x3 and w has shape (2, ) If we transpose X \n",
    "# then it has shape 3x2 and can be broadcast against w \n",
    "# to yield a result of shape 3x2. \n",
    "\n",
    "# Transposing this yields the final result \n",
    "# of shape 2x3 which is the matrix. \n",
    "print((X.T + w).T) "
   ]
  },
  {
   "cell_type": "code",
   "execution_count": 33,
   "metadata": {},
   "outputs": [
    {
     "data": {
      "text/plain": [
       "array([[12, 22, 33],\n",
       "       [45, 55, 66]])"
      ]
     },
     "execution_count": 33,
     "metadata": {},
     "output_type": "execute_result"
    }
   ],
   "source": [
    "X"
   ]
  },
  {
   "cell_type": "code",
   "execution_count": 39,
   "metadata": {},
   "outputs": [
    {
     "data": {
      "text/plain": [
       "array([[45],\n",
       "       [55]])"
      ]
     },
     "execution_count": 39,
     "metadata": {},
     "output_type": "execute_result"
    }
   ],
   "source": [
    "np.reshape(w, (2,1))"
   ]
  },
  {
   "cell_type": "code",
   "execution_count": 37,
   "metadata": {},
   "outputs": [
    {
     "data": {
      "text/plain": [
       "array([[ 57,  67,  78],\n",
       "       [100, 110, 121]])"
      ]
     },
     "execution_count": 37,
     "metadata": {},
     "output_type": "execute_result"
    }
   ],
   "source": [
    "X + np.reshape(w, (2,1))"
   ]
  },
  {
   "cell_type": "code",
   "execution_count": 40,
   "metadata": {},
   "outputs": [
    {
     "name": "stdout",
     "output_type": "stream",
     "text": [
      "[[ 57  67  78]\n",
      " [100 110 121]]\n"
     ]
    }
   ],
   "source": [
    "# Another solution is to reshape w to be a column \n",
    "# vector of shape 2X1 we can then broadcast it \n",
    "# directly against X to produce the same output. \n",
    "print(X + np.reshape(w, (2, 1)))"
   ]
  },
  {
   "cell_type": "code",
   "execution_count": 41,
   "metadata": {},
   "outputs": [
    {
     "data": {
      "text/plain": [
       "array([[12, 22, 33],\n",
       "       [45, 55, 66]])"
      ]
     },
     "execution_count": 41,
     "metadata": {},
     "output_type": "execute_result"
    }
   ],
   "source": [
    "X"
   ]
  },
  {
   "cell_type": "code",
   "execution_count": 42,
   "metadata": {},
   "outputs": [
    {
     "name": "stdout",
     "output_type": "stream",
     "text": [
      "[[ 24  44  66]\n",
      " [ 90 110 132]]\n"
     ]
    }
   ],
   "source": [
    "# Multiply a matrix by a constant, X has shape 2x3. \n",
    "# Numpy treats scalars as arrays of shape(); \n",
    "# these can be broadcast together to shape 2x3. \n",
    "print(X * 2)"
   ]
  },
  {
   "cell_type": "markdown",
   "metadata": {},
   "source": [
    "#### Plotting a two-dimensional function -\n",
    "\n",
    "Broadcasting is also frequently used in displaying images based on two-dimensional functions. If we want to define a function z=f(x, y)."
   ]
  },
  {
   "cell_type": "code",
   "execution_count": null,
   "metadata": {},
   "outputs": [],
   "source": [
    "import numpy as np \n",
    "import matplotlib.pyplot as plt \n",
    "\n",
    "# Computes x and y coordinates for \n",
    "# points on sine and cosine curves \n",
    "x = np.arange(0, 3 * np.pi, 0.1) \n",
    "y_sin = np.sin(x) \n",
    "y_cos = np.cos(x) \n",
    "\n",
    "# Plot the points using matplotlib \n",
    "plt.plot(x, y_sin) \n",
    "plt.plot(x, y_cos) \n",
    "plt.xlabel('x axis label') \n",
    "plt.ylabel('y axis label') \n",
    "plt.title('Sine and Cosine') \n",
    "plt.legend(['Sine', 'Cosine']) \n",
    "\n",
    "plt.show() "
   ]
  }
 ],
 "metadata": {
  "kernelspec": {
   "display_name": "Python 3",
   "language": "python",
   "name": "python3"
  },
  "language_info": {
   "codemirror_mode": {
    "name": "ipython",
    "version": 3
   },
   "file_extension": ".py",
   "mimetype": "text/x-python",
   "name": "python",
   "nbconvert_exporter": "python",
   "pygments_lexer": "ipython3",
   "version": "3.6.9"
  }
 },
 "nbformat": 4,
 "nbformat_minor": 2
}
